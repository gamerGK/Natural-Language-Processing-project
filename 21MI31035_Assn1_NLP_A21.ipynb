{
  "cells": [
    {
      "cell_type": "markdown",
      "metadata": {
        "colab_type": "text",
        "id": "view-in-github"
      },
      "source": [
        "<a href=\"https://colab.research.google.com/github/harsh16kh/NLP/blob/main/Copy_of_20IE10049_Assn1_NLP_A21.ipynb\" target=\"_parent\"><img src=\"https://colab.research.google.com/assets/colab-badge.svg\" alt=\"Open In Colab\"/></a>"
      ]
    },
    {
      "cell_type": "markdown",
      "metadata": {
        "id": "4Z_wN2v1RT1F"
      },
      "source": [
        "# **Assignment-1 for Natural Language Processing**\n",
        "\n",
        "#### Instructor : Prof. Sudeshna Sarkar\n",
        "\n",
        "#### Teaching Assistants : Alapan Kuila, Aniruddha Roy, Prithwish Jana, Udit Dharmin Desai\n",
        "\n",
        "#### (**NOTE**: Submit a .zip file, containing this .ipynb file, named as `<Your_Roll_Number>_Assn1_NLP_A21.ipynb` and the raw text corpus named `<Your_Roll_Number>_Assn1_rawCorpus.txt`. For example, if your roll number is 20XX12Y45, name the .ipynb file as `20XX12Y45_Assn1_NLP_A21.ipynb`. Name the .zip as `<Your_Roll_Number>_Assn1_NLP_A21.zip`. Write your code in the respective designated portion of the .ipynb. Also before submitting, make sure that all the outputs of your code are present in the .ipynb file itself.)"
      ]
    },
    {
      "cell_type": "markdown",
      "metadata": {
        "id": "3a35tmEySCx7"
      },
      "source": [
        "### **Submission Details:**\n",
        "Name: Gaurav Kumar\n",
        "\n",
        "Roll No.: 21MI31035\n",
        "\n",
        "Department: Mining Engineering\n",
        "\n",
        "Email-ID: gauravk8271@gmail.com"
      ]
    },
    {
      "cell_type": "markdown",
      "metadata": {
        "id": "9weHMmyd8fnq"
      },
      "source": [
        "## **Reading a Raw Text Corpus**"
      ]
    },
    {
      "cell_type": "markdown",
      "metadata": {
        "id": "DmSy_LOK2aGQ"
      },
      "source": [
        "Retrieve & save raw corpus"
      ]
    },
    {
      "cell_type": "code",
      "execution_count": null,
      "metadata": {
        "colab": {
          "base_uri": "https://localhost:8080/"
        },
        "id": "rku6rV2ORpZA",
        "outputId": "ffe44dda-4b40-4b6b-e639-af38a43f1dcb"
      },
      "outputs": [
        {
          "name": "stdout",
          "output_type": "stream",
          "text": [
            "[nltk_data] Downloading package punkt to /root/nltk_data...\n",
            "[nltk_data]   Unzipping tokenizers/punkt.zip.\n"
          ]
        },
        {
          "data": {
            "text/plain": [
              "True"
            ]
          },
          "execution_count": 1,
          "metadata": {},
          "output_type": "execute_result"
        }
      ],
      "source": [
        "# To construct your corpus, retrieve (through Python code) Chapter I to Chapter X,\n",
        "# both inclusive, from the link below:\n",
        "# \"https://www.gutenberg.org/files/730/730-0.txt\"\n",
        "# Save this corpus in a text file, named as 'rawCorpus.txt'\n",
        "# Print the total number of characters in the text file \n",
        "\n",
        "# *** Write code ***\n",
        "from urllib import request\n",
        "from bs4 import BeautifulSoup\n",
        "import nltk, re, pprint\n",
        "from nltk.tokenize import word_tokenize,sent_tokenize\n",
        "\n",
        "nltk.download('punkt')"
      ]
    },
    {
      "cell_type": "code",
      "execution_count": null,
      "metadata": {
        "id": "7g7szcVtRSSA"
      },
      "outputs": [],
      "source": [
        "url = \"https://www.gutenberg.org/files/730/730-0.txt\"\n",
        "response = request.urlopen(url)\n",
        "raw = response.read().decode('utf8')\n",
        "tokens = word_tokenize(raw)\n",
        "#raw.find(\"CHAPTER XI\")\n",
        "#raw.find(\"CHAPTER I\")\n",
        "lines = raw[6379:158114]"
      ]
    },
    {
      "cell_type": "code",
      "execution_count": null,
      "metadata": {
        "id": "O3JTVt8036bV"
      },
      "outputs": [],
      "source": [
        "with open('rawCorpus.txt', 'w') as writefile:\n",
        "    for line in lines:\n",
        "        writefile.write(line)"
      ]
    },
    {
      "cell_type": "markdown",
      "metadata": {
        "id": "6KZIOy0Y2hzQ"
      },
      "source": [
        "Read the corpus"
      ]
    },
    {
      "cell_type": "code",
      "execution_count": null,
      "metadata": {
        "colab": {
          "base_uri": "https://localhost:8080/"
        },
        "id": "DsdBJa_l2l7g",
        "outputId": "8c85bc0a-23a5-483d-a9b2-a93fc499e512"
      },
      "outputs": [
        {
          "name": "stdout",
          "output_type": "stream",
          "text": [
            "Total # of characters in read dataset: 148717\n"
          ]
        }
      ],
      "source": [
        "# Read the corpus from rawCorpus.txt, in a variable `rawReadCorpus`\n",
        "# *** Write code ***\n",
        "with open('rawCorpus.txt', 'r') as testwritefile:\n",
        "   rawReadCorpus = testwritefile.read()\n",
        "\n",
        "print (\"Total # of characters in read dataset: {}\".format(len(rawReadCorpus)))"
      ]
    },
    {
      "cell_type": "markdown",
      "metadata": {
        "id": "xhkmGsSoV0zG"
      },
      "source": [
        "## **Installing NLTK**\n",
        "\n",
        "The Natural Language Toolkit ([NLTK](https://www.nltk.org/)) is a Python module that is intended to support research and teaching in NLP or closely related areas. \n",
        "\n",
        "Detailed installation instructions to install NLTK can be found at this [link](https://www.nltk.org/install.html).\n",
        "\n",
        "To ensure uniformity, we suggest to use **python3**. You can download Anaconda3 and create a separate environment to do this assignment, eg.\n",
        "```bash\n",
        "conda create -n myenv python=3.6\n",
        "conda activate myenv\n",
        "```\n",
        "\n",
        "The link to anaconda3 for Windows and Linux is available here https://docs.anaconda.com/anaconda/install/. Subsequently, you can install NLTK through the following commands:\n",
        "```bash\n",
        "sudo pip3 install nltk \n",
        "python3 \n",
        "nltk.download()\n",
        "```"
      ]
    },
    {
      "cell_type": "markdown",
      "metadata": {
        "id": "utKtZeHq4N98"
      },
      "source": [
        "## **Preprocessing the corpus**"
      ]
    },
    {
      "cell_type": "markdown",
      "metadata": {
        "id": "5-LSUX__82Ff"
      },
      "source": [
        "**Tokenize into words and sentences, using NLTK library:** Using the NLTK modules imported above, retrieve a case-insensitive preprocessed model. Make sure to take care of words like \"\\_will\\_\" (that should ideally appear as \"will\"), \"wouldn't\" (that should ideally appear as a single word, and not multiple tokens) and other occurences of special cases that you find in the raw corpus. "
      ]
    },
    {
      "cell_type": "code",
      "execution_count": null,
      "metadata": {
        "colab": {
          "base_uri": "https://localhost:8080/"
        },
        "id": "2g7eO4Dm4jIn",
        "outputId": "5ff4b132-7173-41ed-d760-94c0d3517641"
      },
      "outputs": [
        {
          "name": "stdout",
          "output_type": "stream",
          "text": [
            "[nltk_data] Downloading package punkt to /root/nltk_data...\n",
            "[nltk_data]   Package punkt is already up-to-date!\n"
          ]
        }
      ],
      "source": [
        "# Importing modules\n",
        "import nltk\n",
        "nltk.download('punkt') # For tokenizers\n",
        "from nltk.tokenize import word_tokenize,sent_tokenize"
      ]
    },
    {
      "cell_type": "code",
      "execution_count": null,
      "metadata": {
        "colab": {
          "base_uri": "https://localhost:8080/"
        },
        "id": "cWIzYXyz9Zt_",
        "outputId": "ada8ae94-1950-4b67-e3f5-a4f9b3b59e72"
      },
      "outputs": [
        {
          "name": "stdout",
          "output_type": "stream",
          "text": [
            "First 5 sentences of my preprocessed corpus are: \n",
            "1 )  chapter i.\n",
            "treats of the place where oliver twist was born and of the\n",
            "circumstances attending his birth\n",
            "\n",
            "\n",
            "among other public buildings in a certain town, which for many reasons\n",
            "it will be prudent to refrain from mentioning, and to which i will\n",
            "assign no fictitious name, there is one anciently common to most towns,\n",
            "great or small: to wit, a workhouse; and in this workhouse was born; on\n",
            "a day and date which i need not trouble myself to repeat, inasmuch as\n",
            "it can be of no possible consequence to the reader, in this stage of\n",
            "the business at all events; the item of mortality whose name is\n",
            "prefixed to the head of this chapter.\n",
            "\n",
            "\n",
            "2 )  for a long time after it was ushered into this world of sorrow and\n",
            "trouble, by the parish surgeon, it remained a matter of considerable\n",
            "doubt whether the child would survive to bear any name at all; in which\n",
            "case it is somewhat more than probable that these memoirs would never\n",
            "have appeared; or, if they had, that being comprised within a couple of\n",
            "pages, they would have possessed the inestimable merit of being the\n",
            "most concise and faithful specimen of biography, extant in the\n",
            "literature of any age or country.\n",
            "\n",
            "\n",
            "3 )  although i am not disposed to maintain that the being born in a\n",
            "workhouse, is in itself the most fortunate and enviable circumstance\n",
            "that can possibly befall a human being, i do mean to say that in this\n",
            "particular instance, it was the best thing for oliver twist that could\n",
            "by possibility have occurred.\n",
            "\n",
            "\n",
            "4 )  the fact is, that there was considerable\n",
            "difficulty in inducing oliver to take upon himself the office of\n",
            "respiration,—a troublesome practice, but one which custom has rendered\n",
            "necessary to our easy existence; and for some time he lay gasping on a\n",
            "little flock mattress, rather unequally poised between this world and\n",
            "the next: the balance being decidedly in favour of the latter.\n",
            "\n",
            "\n",
            "5 )  now, if,\n",
            "during this brief period, oliver had been surrounded by careful\n",
            "grandmothers, anxious aunts, experienced nurses, and doctors of\n",
            "profound wisdom, he would most inevitably and indubitably have been\n",
            "killed in no time.\n",
            "\n",
            "\n",
            "First 5 words/tokens of my preprocessed corpus are: \n",
            "['chapter', 'i', 'treats', 'of', 'the']\n"
          ]
        }
      ],
      "source": [
        "# *** Write code for preprocessing the corpus ***\n",
        "import string\n",
        "punctuation = string.punctuation + '“' + '”' + '’'\n",
        "\n",
        "rawReadCorpus = rawReadCorpus.lower()\n",
        "rawReadCorpus_p = \"\".join([char for char in rawReadCorpus if char not in punctuation])\n",
        "\n",
        "words = word_tokenize(rawReadCorpus_p)\n",
        "sentences = sent_tokenize(rawReadCorpus)\n",
        "\n",
        "# Print first 5 sentences of your preprocessed corpus *** Write code ***\n",
        "print(\"First 5 sentences of my preprocessed corpus are: \")\n",
        "for i in range(5):\n",
        "    print(i+1,\") \",sentences[i])\n",
        "    print('\\n')\n",
        "\n",
        "# Print first 5 words/tokens of your preprocessed corpus *** Write code ***\n",
        "print(\"First 5 words/tokens of my preprocessed corpus are: \")\n",
        "print(words[:5])"
      ]
    },
    {
      "cell_type": "markdown",
      "metadata": {
        "id": "eZ75_a1QL70J"
      },
      "source": [
        "**Perform the following tasks for the given corpus:**\n",
        "1. Print the average number of tokens per sentence.\n",
        "2. Print the length of the longest and the shortest sentence, that contains the word 'Oliver' ('Oliver' is case-insensitive).\n",
        "3. Print the number of unique tokens in the corpus, after stopword removal using the stopwords from NLTK (case-insensitive)."
      ]
    },
    {
      "cell_type": "code",
      "execution_count": null,
      "metadata": {
        "colab": {
          "base_uri": "https://localhost:8080/"
        },
        "id": "pyG0g3oSADmV",
        "outputId": "6b7096f9-d683-4c4d-ee21-972d31cc6acf"
      },
      "outputs": [
        {
          "name": "stdout",
          "output_type": "stream",
          "text": [
            "[nltk_data] Downloading package stopwords to /root/nltk_data...\n",
            "[nltk_data]   Unzipping corpora/stopwords.zip.\n"
          ]
        }
      ],
      "source": [
        "# Importing modules\n",
        "nltk.download('stopwords')\n",
        "from nltk.corpus import stopwords"
      ]
    },
    {
      "cell_type": "code",
      "execution_count": null,
      "metadata": {
        "colab": {
          "base_uri": "https://localhost:8080/"
        },
        "id": "ydHIxC7lG7Py",
        "outputId": "f803f4b7-cffe-4d72-b7c7-895a9e6cdb66"
      },
      "outputs": [
        {
          "name": "stdout",
          "output_type": "stream",
          "text": [
            "Average number of tokens per sentence:  29.79890310786106\n",
            "Length of the longest sentence that contains the word 'Oliver':  128\n",
            "Length of the shortest sentence that contains the word 'Oliver':  2\n",
            "No of unique tokens after stopword removal:  4219\n"
          ]
        }
      ],
      "source": [
        "# *** Write code for the 2 tasks above ***\n",
        "arr = []\n",
        "for sentence in sentences:\n",
        "    arr.append(len(word_tokenize(sentence)))\n",
        "print(\"Average number of tokens per sentence: \", sum(arr)/len(arr))\n",
        "\n",
        "length = []\n",
        "for sentence in sentences:\n",
        "    if sentence.find(\"oliver\"):\n",
        "        length.append(len(word_tokenize(sentence)))\n",
        "\n",
        "print(\"Length of the longest sentence that contains the word 'Oliver': \", max(length))\n",
        "print(\"Length of the shortest sentence that contains the word 'Oliver': \", min(length))\n",
        "\n",
        "unique = []\n",
        "for word in words:\n",
        "    if(word not in stopwords.words('english')):\n",
        "        unique.append(word)\n",
        "print(\"No of unique tokens after stopword removal: \", len(set(unique)))\n"
      ]
    },
    {
      "cell_type": "markdown",
      "metadata": {
        "id": "X5RiDR7TJjKX"
      },
      "source": [
        "## **Language Modeling**"
      ]
    },
    {
      "cell_type": "markdown",
      "metadata": {
        "id": "UJeTSt8HM95L"
      },
      "source": [
        "### Task: In this sub-task, you are expected to carry out the following tasks:\n",
        "\n",
        "1. **Create the following language models** on the given corpus: <br>\n",
        "    i.   Unigram <br>\n",
        "    ii.  Bigram <br>\n",
        "    iii. Trigram <br>\n",
        "\n",
        "2. **List the top 10 bigrams, trigrams**\n",
        "(Additionally remove those items which contain only articles, prepositions, determiners eg. \"of the\", \"in a\", etc. List top-10 bigrams/trigrams in both the original and processed models)."
      ]
    },
    {
      "cell_type": "code",
      "execution_count": null,
      "metadata": {
        "colab": {
          "base_uri": "https://localhost:8080/"
        },
        "id": "DlPXGvVaR-ka",
        "outputId": "b3bdcb2c-c6ae-428e-8d1e-aaf6f173c8ac"
      },
      "outputs": [
        {
          "name": "stdout",
          "output_type": "stream",
          "text": [
            "Sample of n-grams:\n",
            "-------------------------\n",
            "--> UNIGRAMS: \n",
            "['chapter', 'i', 'treats', 'of', 'the'] ...\n",
            "\n",
            "--> BIGRAMS: \n",
            "[('chapter', 'i'), ('i', 'treats'), ('treats', 'of'), ('of', 'the'), ('the', 'place')] ...\n",
            "\n",
            "--> TRIGRAMS: \n",
            "[('chapter', 'i', 'treats'), ('i', 'treats', 'of'), ('treats', 'of', 'the'), ('of', 'the', 'place'), ('the', 'place', 'where')] ...\n",
            "\n",
            "Sample of n-grams after processing:\n",
            "-------------------------\n",
            "--> UNIGRAMS: \n",
            "['jail', 'passions', 'depth', 'changes', 'four'] ...\n",
            "\n",
            "--> BIGRAMS: \n",
            "[('chapter', 'i'), ('i', 'treats'), ('treats', 'of'), ('the', 'place'), ('place', 'where')] ...\n",
            "\n",
            "--> TRIGRAMS: \n",
            "[('chapter', 'i', 'treats'), ('i', 'treats', 'of'), ('treats', 'of', 'the'), ('of', 'the', 'place'), ('the', 'place', 'where')] ...\n",
            "\n",
            "\n",
            "1:  ['the', 'and', 'a', 'of', 'to', 'his', 'he', 'in', 'was', 'oliver']\n",
            "\n",
            "2:  ['jail', 'passions', 'depth', 'changes', 'four', 'plateful', 'stammered', 'cheek', 'advantages', 'bumble']\n",
            "\n",
            "3:  [('mr', 'bumble'), ('said', 'the'), ('the', 'old'), ('old', 'gentleman'), ('the', 'undertaker'), ('said', 'mr'), ('the', 'boy'), ('the', 'gentleman'), ('mrs', 'sowerberry'), ('the', 'jew')]\n",
            "\n",
            "4:  [('mr', 'bumble'), ('said', 'the'), ('the', 'old'), ('old', 'gentleman'), ('the', 'undertaker'), ('said', 'mr'), ('the', 'boy'), ('the', 'gentleman'), ('mrs', 'sowerberry'), ('the', 'jew')]\n",
            "\n",
            "5:  [('the', 'old', 'gentleman'), ('gentleman', 'in', 'the'), ('the', 'gentleman', 'in'), ('the', 'white', 'waistcoat'), ('said', 'mr', 'bumble'), ('in', 'the', 'white'), ('said', 'the', 'gentleman'), ('said', 'the', 'undertaker'), ('said', 'the', 'jew'), ('sir', 'replied', 'oliver')]\n",
            "\n",
            "6:  [('the', 'old', 'gentleman'), ('gentleman', 'in', 'the'), ('the', 'gentleman', 'in'), ('the', 'white', 'waistcoat'), ('said', 'mr', 'bumble'), ('in', 'the', 'white'), ('said', 'the', 'gentleman'), ('said', 'the', 'undertaker'), ('said', 'the', 'jew'), ('sir', 'replied', 'oliver')]\n"
          ]
        }
      ],
      "source": [
        "from nltk.util import ngrams\n",
        "unigrams=[]\n",
        "bigrams=[]\n",
        "trigrams=[]\n",
        "\n",
        "unigrams.extend(words)\n",
        "bigrams.extend(ngrams(words,2))\n",
        "##similar for trigrams \n",
        "# *** Write code ***\n",
        "trigrams.extend(ngrams(words,3))\n",
        "\n",
        "print (\"Sample of n-grams:\\n\" + \"-------------------------\")\n",
        "print (\"--> UNIGRAMS: \\n\" + str(unigrams[:5]) + \" ...\\n\")\n",
        "print (\"--> BIGRAMS: \\n\" + str(bigrams[:5]) + \" ...\\n\")\n",
        "print (\"--> TRIGRAMS: \\n\" + str(trigrams[:5]) + \" ...\\n\")\n",
        "\n",
        "# list of unigram, bigram & trigram after removing those that \n",
        "# totally contain only articles, prepositions, determiners\n",
        "# Eg. For bigrams, don't remove items like (\"a\", \"boy\") --> where not all are \n",
        "#     articles, prepositions, determiners\n",
        "#     But remove items like (\"in\", \"the\") --> where all are articles, prepositions, determiners\n",
        "# Similarly, for unigrams and trigrams\n",
        "unigrams_Processed = list(set(unigrams) - set(stopwords.words('english')))# *** Write code *** \n",
        "bigrams_Processed = [Tuple for Tuple in bigrams if (Tuple[0] not in stopwords.words('english')) or (Tuple[1] not in stopwords.words('english'))]# *** Write code ***\n",
        "trigrams_Processed = [Tuple for Tuple in trigrams if (Tuple[0] not in stopwords.words('english') or Tuple[1] not in stopwords.words('english') or Tuple[2] not in stopwords.words('english'))]# *** Write code ***\n",
        "\n",
        "print (\"Sample of n-grams after processing:\\n\" + \"-------------------------\")\n",
        "print (\"--> UNIGRAMS: \\n\" + str(unigrams_Processed[:5]) + \" ...\\n\")\n",
        "print (\"--> BIGRAMS: \\n\" + str(bigrams_Processed[:5]) + \" ...\\n\")\n",
        "print (\"--> TRIGRAMS: \\n\" + str(trigrams_Processed[:5]) + \" ...\\n\")\n",
        "\n",
        "def get_ngrams_freqDist(n, ngramList):\n",
        "    #This function computes the frequency corresponding to each ngram in ngramList \n",
        "    #Here, n=1 for unigram, n=2 for bigram, etc.\n",
        "    #ngramList = list of unigrams when n=1, ngramList = list of bigrams when n=2\n",
        "    #Returns: ngram_freq_dict (a Python dictionary where key = a ngram, value = its frequency)\n",
        "    \n",
        "    # *** Write code ***\n",
        "    ngram_freq_dict = nltk.FreqDist(ngramList)\n",
        "    return ngram_freq_dict\n",
        "\n",
        "unigrams_freqDist = get_ngrams_freqDist(1, unigrams)\n",
        "unigrams_Processed_freqDist = get_ngrams_freqDist(1, unigrams_Processed)\n",
        "bigrams_freqDist = get_ngrams_freqDist(2, bigrams_Processed)\n",
        "bigrams_Processed_freqDist = get_ngrams_freqDist(2, bigrams_Processed)\n",
        "trigrams_freqDist = get_ngrams_freqDist(3, trigrams_Processed)\n",
        "trigrams_Processed_freqDist = get_ngrams_freqDist(3, trigrams_Processed)                                                 \n",
        "\n",
        "# Print top 10 unigrams, having highest frequency as in unigrams_freqDist\n",
        "# *** Write code ***\n",
        "sort1 = sorted(unigrams_freqDist.items(), key = lambda item: item[1], reverse=True)[:10]\n",
        "res1 = [sub[0] for sub in sort1] \n",
        "print(\"\\n1: \", res1)\n",
        "# Print top 10 unigrams, having highest frequency as in unigrams_Processed_freqDist\n",
        "# *** Write code ***\n",
        "sort2 = sorted(unigrams_Processed_freqDist.items(), key = lambda item: item[1], reverse=True)[:10]\n",
        "res2 = [sub[0] for sub in sort2] \n",
        "print(\"\\n2: \", res2)\n",
        "# Print top 10 bigrams, having highest frequency as in bigrams_freqDist\n",
        "# *** Write code ***\n",
        "sort3 = sorted(bigrams_freqDist.items(), key = lambda item: item[1], reverse=True)[:10]\n",
        "res3 = [sub[0] for sub in sort3] \n",
        "print(\"\\n3: \", res3)\n",
        "# Print top 10 bigrams, having highest frequency as in bigrams_Processed_freqDist\n",
        "# *** Write code ***\n",
        "sort4 = sorted(bigrams_Processed_freqDist.items(), key = lambda item: item[1], reverse=True)[:10]\n",
        "res4 = [sub[0] for sub in sort4] \n",
        "print(\"\\n4: \", res4)\n",
        "# Print top 10 trigrams, having highest frequency as in trigrams_freqDist\n",
        "# *** Write code ***\n",
        "sort5 = sorted(trigrams_freqDist.items(), key = lambda item: item[1], reverse=True)[:10]\n",
        "res5 = [sub[0] for sub in sort5] \n",
        "print(\"\\n5: \", res5)\n",
        "# Print top 10 trigrams, having highest frequency as in trigrams_Processed_freqDist\n",
        "# *** Write code ***\n",
        "sort6 = sorted(trigrams_Processed_freqDist.items(), key = lambda item: item[1], reverse=True)[:10]\n",
        "res6 = [sub[0] for sub in sort6] \n",
        "print(\"\\n6: \", res6)"
      ]
    },
    {
      "cell_type": "markdown",
      "metadata": {
        "id": "Lqu8nVV7NREo"
      },
      "source": [
        "## **Next three words' Prediction using Smoothed Models**"
      ]
    },
    {
      "cell_type": "markdown",
      "metadata": {
        "id": "a2vnIM26b2WA"
      },
      "source": [
        "For a bigram model, add-one smoothing is defined by $P_{Add-1}(w_i|w_{i-1})=\\frac{count(w_{i-1},w_i)+1}{count(w_{i-1})+V}$.\n",
        "That is, pretend we saw each word one more time than we did.\n",
        "\n",
        "You have two tasks here.\n",
        "\n",
        "First, compute the smoothed bigram and trigram models from the bigrams_freqDist and trigrams_freqDist you calculated above (use the unprocessed models). Second, using these smoothed models, predict the next 3 possible word sequences for testSent1, testSent2 and testSent3, using your smoothed models.\n",
        "\n",
        "As for example, for the string 'Raj has a' the answers can be as below: \n",
        "\n",
        "(1) Raj has a **beautiful red car**\n",
        "\n",
        "(2) Raj has a **charismatic magnetic personality**"
      ]
    },
    {
      "cell_type": "code",
      "execution_count": null,
      "metadata": {
        "id": "qAGB1_S8NThy"
      },
      "outputs": [],
      "source": [
        "testSent1 = \"There was a sudden jerk, a terrific convulsion of the limbs; and there he\"\n",
        "testSent2 = \"They made room for the stranger, but he sat down\"\n",
        "testSent3 = \"The hungry and destitute situation of the infant orphan was duly reported by\""
      ]
    },
    {
      "cell_type": "code",
      "execution_count": null,
      "metadata": {
        "id": "lh9NPoytC-ik"
      },
      "outputs": [],
      "source": [
        "token1 = word_tokenize(testSent1)\n",
        "token2 = word_tokenize(testSent2)\n",
        "token3 = word_tokenize(testSent3)"
      ]
    },
    {
      "cell_type": "code",
      "execution_count": null,
      "metadata": {
        "id": "RUhN2x0hDRx9"
      },
      "outputs": [],
      "source": [
        "# bigram smoothed model\n",
        "sm_bigram_prob = []\n",
        "a = []\n",
        "b = []\n",
        "\n",
        "for key in bigrams_freqDist:\n",
        "    a.append(bigrams_freqDist[key] + 1)\n",
        "    for key1 in unigrams_freqDist:\n",
        "        if key[0] == key1:\n",
        "            b.append(unigrams_freqDist[key1] + len(rawReadCorpus_p))\n",
        "\n",
        "for i in range(len(bigrams_freqDist)):\n",
        "    sm_bigram_prob.append(a[i]/b[i])"
      ]
    },
    {
      "cell_type": "code",
      "execution_count": null,
      "metadata": {
        "colab": {
          "base_uri": "https://localhost:8080/"
        },
        "id": "yLY1ymH-ZuJu",
        "outputId": "8308445c-fb91-4df0-993e-bb9c11d0aa2f"
      },
      "outputs": [
        {
          "name": "stdout",
          "output_type": "stream",
          "text": [
            "There was a sudden jerk, a terrific convulsion of the limbs; and there he would have seen\n"
          ]
        }
      ],
      "source": [
        "# *** Write code ***\n",
        "# testSent1\n",
        "c1 = []\n",
        "c2 = []\n",
        "c3 = []\n",
        "\n",
        "for key in bigrams_freqDist:\n",
        "    if token1[-1] == key[0]:\n",
        "        idx1 = list(bigrams_freqDist.keys()).index(key)\n",
        "        c1.append(sm_bigram_prob[idx1])\n",
        "\n",
        "for i in range(len(bigrams_freqDist)):\n",
        "    if max(c1) == sm_bigram_prob[i]:\n",
        "        for key in bigrams_freqDist:\n",
        "            if i == list(bigrams_freqDist.keys()).index(key):\n",
        "                w1 = key[1] \n",
        "\n",
        "for key in bigrams_freqDist:\n",
        "    if w1 == key[0]:\n",
        "        idx = list(bigrams_freqDist.keys()).index(key)\n",
        "        c2.append(sm_bigram_prob[idx])\n",
        "\n",
        "for i in range(len(bigrams_freqDist)):\n",
        "    if max(c2) == sm_bigram_prob[i]:\n",
        "        for key in bigrams_freqDist:\n",
        "            if i == list(bigrams_freqDist.keys()).index(key):\n",
        "                w2 = key[1] \n",
        "\n",
        "for key in bigrams_freqDist:\n",
        "    if w2 == key[0]:\n",
        "        idx = list(bigrams_freqDist.keys()).index(key)\n",
        "        c3.append(sm_bigram_prob[idx])\n",
        "\n",
        "for i in range(len(bigrams_freqDist)):\n",
        "    if max(c3) == sm_bigram_prob[i]:\n",
        "        for key in bigrams_freqDist:\n",
        "            if i == list(bigrams_freqDist.keys()).index(key):\n",
        "                w3 = key[1] \n",
        "\n",
        "print(testSent1 + \" \" + w1 + \" \" + w2 + \" \" + w3)"
      ]
    },
    {
      "cell_type": "code",
      "execution_count": null,
      "metadata": {
        "colab": {
          "base_uri": "https://localhost:8080/"
        },
        "id": "HzCZTLFNC2xr",
        "outputId": "9e09901f-f493-47e2-c701-60a2714c3780"
      },
      "outputs": [
        {
          "name": "stdout",
          "output_type": "stream",
          "text": [
            "They made room for the stranger, but he sat down upon the old\n"
          ]
        }
      ],
      "source": [
        "# testSent12\n",
        "d1 = []\n",
        "d2 = []\n",
        "d3 = []\n",
        "\n",
        "for key in bigrams_freqDist:\n",
        "    if token2[-1] == key[0]:\n",
        "        idx1 = list(bigrams_freqDist.keys()).index(key)\n",
        "        d1.append(sm_bigram_prob[idx1])\n",
        "\n",
        "for i in range(len(bigrams_freqDist)):\n",
        "    if max(d1) == sm_bigram_prob[i]:\n",
        "        for key in bigrams_freqDist:\n",
        "            if i == list(bigrams_freqDist.keys()).index(key):\n",
        "                y1 = key[1] \n",
        "\n",
        "for key in bigrams_freqDist:\n",
        "    if y1 == key[0]:\n",
        "        idx = list(bigrams_freqDist.keys()).index(key)\n",
        "        d2.append(sm_bigram_prob[idx])\n",
        "\n",
        "for i in range(len(bigrams_freqDist)):\n",
        "    if max(d2) == sm_bigram_prob[i]:\n",
        "        for key in bigrams_freqDist:\n",
        "            if i == list(bigrams_freqDist.keys()).index(key):\n",
        "                y2 = key[1] \n",
        "\n",
        "for key in bigrams_freqDist:\n",
        "    if y2 == key[0]:\n",
        "        idx = list(bigrams_freqDist.keys()).index(key)\n",
        "        d3.append(sm_bigram_prob[idx])\n",
        "\n",
        "for i in range(len(bigrams_freqDist)):\n",
        "    if max(d3) == sm_bigram_prob[i]:\n",
        "        for key in bigrams_freqDist:\n",
        "            if i == list(bigrams_freqDist.keys()).index(key):\n",
        "                y3 = key[1] \n",
        "\n",
        "print(testSent2 + \" \" + y1 + \" \" + y2 + \" \" + y3)"
      ]
    },
    {
      "cell_type": "code",
      "execution_count": null,
      "metadata": {
        "colab": {
          "base_uri": "https://localhost:8080/"
        },
        "id": "2vmYcIV4B_FU",
        "outputId": "41c9c4a0-04ba-4f95-dfac-7b83765a63c5"
      },
      "outputs": [
        {
          "name": "stdout",
          "output_type": "stream",
          "text": [
            "The hungry and destitute situation of the infant orphan was duly reported by mr bumble and\n"
          ]
        }
      ],
      "source": [
        "# testSent12\n",
        "e1 = []\n",
        "e2 = []\n",
        "e3 = []\n",
        "\n",
        "for key in bigrams_freqDist:\n",
        "    if token3[-1] == key[0]:\n",
        "        idx1 = list(bigrams_freqDist.keys()).index(key)\n",
        "        e1.append(sm_bigram_prob[idx1])\n",
        "\n",
        "for i in range(len(bigrams_freqDist)):\n",
        "    if max(e1) == sm_bigram_prob[i]:\n",
        "        for key in bigrams_freqDist:\n",
        "            if i == list(bigrams_freqDist.keys()).index(key):\n",
        "                z1 = key[1] \n",
        "\n",
        "for key in bigrams_freqDist:\n",
        "    if z1 == key[0]:\n",
        "        idx = list(bigrams_freqDist.keys()).index(key)\n",
        "        e2.append(sm_bigram_prob[idx])\n",
        "\n",
        "for i in range(len(bigrams_freqDist)):\n",
        "    if max(e2) == sm_bigram_prob[i]:\n",
        "        for key in bigrams_freqDist:\n",
        "            if i == list(bigrams_freqDist.keys()).index(key):\n",
        "                z2 = key[1] \n",
        "\n",
        "for key in bigrams_freqDist:\n",
        "    if z2 == key[0]:\n",
        "        idx = list(bigrams_freqDist.keys()).index(key)\n",
        "        e3.append(sm_bigram_prob[idx])\n",
        "\n",
        "for i in range(len(bigrams_freqDist)):\n",
        "    if max(e3) == sm_bigram_prob[i]:\n",
        "        for key in bigrams_freqDist:\n",
        "            if i == list(bigrams_freqDist.keys()).index(key):\n",
        "                z3 = key[1] \n",
        "\n",
        "print(testSent3 + \" \" + z1 + \" \" + z2 + \" \" + z3)"
      ]
    },
    {
      "cell_type": "markdown",
      "metadata": {
        "id": "rxfeaacTdO6h"
      },
      "source": [
        "Check the presence of these sentences in the original corpus at https://www.gutenberg.org/files/730/730-0.txt . How did your smoothed models perform in comparison to the original sentences? Compare them below.\n",
        "\n",
        "Did you notice something special about testSent3, in comparison to testSent1 and testSent2? If yes, what is it? Can you explain it?\n",
        "\n"
      ]
    },
    {
      "cell_type": "markdown",
      "metadata": {
        "id": "nFMkW9hKecxK"
      },
      "source": [
        "  - - - - - - - - - -\n",
        "  ** Answer here **\n",
        "1. testSent1 was not available in the original corpus.\n",
        "Output: **There was a sudden jerk, a terrific convulsion of the limbs; and there he would have seen**\n",
        "2. testSent2 Original: **They made room for the stranger, but he sat down in the furthest** whereas\n",
        "Output:\n",
        " **They made room for the stranger, but he sat down upon the old** which is different\n",
        "3. testSent3 \n",
        "Original: **The\n",
        "hungry and destitute situation of the infant orphan was duly reported\n",
        "by the workhouse authorities** whereas\n",
        "Output: **The hungry and destitute situation of the infant orphan was duly reported by mr bumble and**\n",
        "\n",
        "The smoothed model performed very well if we compare them with the original sentences\n",
        "   - - - - - - - - - -"
      ]
    },
    {
      "cell_type": "markdown",
      "metadata": {
        "id": "vVBMcaAJXR9S"
      },
      "source": [
        "Which of the three models you generated above (unigram, bigram, trigram) is better in terms of **perplexity**, for the three test sentences (unseen data)? Write a piece of code to justify your answer. "
      ]
    },
    {
      "cell_type": "markdown",
      "metadata": {
        "id": "AAPa1OVZX8uN"
      },
      "source": [
        "  - - - - - - - - - -\n",
        "  ** Answer here ** \n",
        "   - - - - - - - - - -"
      ]
    }
  ],
  "metadata": {
    "colab": {
      "collapsed_sections": [],
      "include_colab_link": true,
      "name": "Copy of 20IE10049_Assn1_NLP_A21.ipynb",
      "provenance": []
    },
    "kernelspec": {
      "display_name": "Python 3",
      "name": "python3"
    },
    "language_info": {
      "name": "python"
    }
  },
  "nbformat": 4,
  "nbformat_minor": 0
}
